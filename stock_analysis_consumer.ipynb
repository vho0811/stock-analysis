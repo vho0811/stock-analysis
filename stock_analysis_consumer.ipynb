{
  "nbformat": 4,
  "nbformat_minor": 0,
  "metadata": {
    "colab": {
      "provenance": []
    },
    "kernelspec": {
      "name": "python3",
      "display_name": "Python 3"
    },
    "language_info": {
      "name": "python"
    }
  },
  "cells": [
    {
      "cell_type": "code",
      "execution_count": null,
      "metadata": {
        "id": "l6iCD_LevT_F"
      },
      "outputs": [],
      "source": [
        "!pip install kafka-python\n",
        "!pip install s3fs"
      ]
    },
    {
      "cell_type": "code",
      "source": [
        "from kafka import KafkaConsumer\n",
        "from time import sleep\n",
        "from json import dumps,loads\n",
        "import json\n",
        "from s3fs import S3FileSystem"
      ],
      "metadata": {
        "id": "HmT1bxnrrYeg"
      },
      "execution_count": null,
      "outputs": []
    },
    {
      "cell_type": "code",
      "source": [
        "consumer = KafkaConsumer(\n",
        "    'demo_test',\n",
        "    bootstrap_servers=['18.189.29.180:9092'],\n",
        "    value_deserializer = lambda x: loads(x.decode('utf-8'))\n",
        ")\n",
        "\n"
      ],
      "metadata": {
        "id": "E9arG228rSn7"
      },
      "execution_count": null,
      "outputs": []
    },
    {
      "cell_type": "code",
      "source": [
        "s3 = S3FileSystem()\n"
      ],
      "metadata": {
        "id": "EFWtp-LErwbo"
      },
      "execution_count": null,
      "outputs": []
    },
    {
      "cell_type": "code",
      "source": [
        "for count, i in enumerate(consumer):\n",
        "    with s3.open(\"s3://stock-analysis/stock_market_{}.json\".format(count), 'w') as file:\n",
        "        json.dump(i.value, file)"
      ],
      "metadata": {
        "id": "No_NQTM-yH0O"
      },
      "execution_count": null,
      "outputs": []
    }
  ]
}