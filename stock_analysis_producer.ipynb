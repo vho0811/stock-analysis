{
  "nbformat": 4,
  "nbformat_minor": 0,
  "metadata": {
    "colab": {
      "provenance": []
    },
    "kernelspec": {
      "name": "python3",
      "display_name": "Python 3"
    },
    "language_info": {
      "name": "python"
    }
  },
  "cells": [
    {
      "cell_type": "code",
      "execution_count": null,
      "metadata": {
        "id": "1rXjvdsAvIDP"
      },
      "outputs": [],
      "source": [
        "pip install kafka-python"
      ]
    },
    {
      "cell_type": "code",
      "source": [
        "import pandas as pd\n",
        "from kafka import KafkaProducer, KafkaConsumer\n",
        "from time import sleep\n",
        "from json import dumps\n",
        "import json"
      ],
      "metadata": {
        "id": "MSBvh4n9vOVL"
      },
      "execution_count": null,
      "outputs": []
    },
    {
      "cell_type": "code",
      "source": [
        "producer = KafkaProducer(bootstrap_servers=['18.189.29.180:9092'],\n",
        "                         value_serializer=lambda x:\n",
        "                         dumps(x).encode('utf-8'))"
      ],
      "metadata": {
        "id": "-CG8F6skwNQP"
      },
      "execution_count": null,
      "outputs": []
    },
    {
      "cell_type": "code",
      "source": [
        "producer.send('demo_test', value={'name':'vuho'})"
      ],
      "metadata": {
        "id": "BqdQ1e8XwcIw"
      },
      "execution_count": null,
      "outputs": []
    },
    {
      "cell_type": "code",
      "source": [
        "df = pd.read_csv(\"data/indexProcessed.csv\")\n",
        "df.head()"
      ],
      "metadata": {
        "id": "fxhx_NfGs1VO"
      },
      "execution_count": null,
      "outputs": []
    },
    {
      "cell_type": "code",
      "source": [
        "while True:\n",
        "  dict_stock=df.sample(1).to_dict(orient=\"records\")[0]\n",
        "  producer.send('demo_test', value=dict_stock)\n",
        "  sleep(1)"
      ],
      "metadata": {
        "id": "zINc4qN6uFNL"
      },
      "execution_count": null,
      "outputs": []
    },
    {
      "cell_type": "code",
      "source": [
        "producer.flush()"
      ],
      "metadata": {
        "id": "EfUKZEDRuyZw"
      },
      "execution_count": 21,
      "outputs": []
    }
  ]
}